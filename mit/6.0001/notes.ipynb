{
 "cells": [
  {
   "cell_type": "markdown",
   "metadata": {},
   "source": [
    "FUNCTIONS:\n",
    "[def name(parameter):  (function definition)\n",
    "        body\n",
    "return(if no return it gives valuee as none)\n",
    "name(parameter)        (function call) ]\n",
    "\n",
    "for understanding:                                             Actual code:\n",
    "def g(x):                                                       def g(x):\n",
    " x=3                                                              def h():\n",
    "z=g(x)                                                               x='abc'\n",
    "x=x+1                                                            x=x+1\n",
    "print ('g:x=',x)                                                 print ('g:x=',x)\n",
    "return x                                                         h()\n",
    "def h():                                                         return x\n",
    "h()\n",
    "x='abc'                                                        x=3\n",
    "(which returns non  because of no none statement)              z=g(x)\n"
   ]
  }
 ],
 "metadata": {
  "language_info": {
   "name": "python"
  }
 },
 "nbformat": 4,
 "nbformat_minor": 2
}
